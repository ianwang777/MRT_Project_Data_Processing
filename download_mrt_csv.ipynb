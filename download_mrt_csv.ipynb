{
 "cells": [
  {
   "cell_type": "code",
   "execution_count": null,
   "id": "872b1ab7-b349-492c-ac3a-a6553f72138b",
   "metadata": {
    "tags": []
   },
   "outputs": [],
   "source": [
    "import numpy as np\n",
    "import pandas as pd\n",
    "df = pd.read_csv('mrt_raw_data/臺北捷運每日分時各站OD流量統計資料.csv')\n",
    "df = df.sort_values(by=['年月'], ascending=False)"
   ]
  },
  {
   "cell_type": "markdown",
   "id": "0ab3766b-f9aa-47f5-a82c-97522cb46d05",
   "metadata": {},
   "source": [
    "##### Download MRT raw data of each months (2017-Jan to 2022-Jul)"
   ]
  },
  {
   "cell_type": "code",
   "execution_count": null,
   "id": "c074123f-b78b-4a2a-b945-da5705c00772",
   "metadata": {},
   "outputs": [],
   "source": [
    "import urllib.request\n",
    "for i in range(df.shape[0]):\n",
    "    urllib.request.urlretrieve(df.values[i][1], f\"mrt_raw_data_try/{df.values[i][0]}.csv\")"
   ]
  }
 ],
 "metadata": {
  "kernelspec": {
   "display_name": "Python 3 (ipykernel)",
   "language": "python",
   "name": "python3"
  },
  "language_info": {
   "codemirror_mode": {
    "name": "ipython",
    "version": 3
   },
   "file_extension": ".py",
   "mimetype": "text/x-python",
   "name": "python",
   "nbconvert_exporter": "python",
   "pygments_lexer": "ipython3",
   "version": "3.9.12"
  }
 },
 "nbformat": 4,
 "nbformat_minor": 5
}

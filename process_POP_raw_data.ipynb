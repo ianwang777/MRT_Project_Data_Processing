{
 "cells": [
  {
   "cell_type": "code",
   "execution_count": 10,
   "id": "a2f65efe-b3c5-4b68-9b59-25deb0c7d850",
   "metadata": {},
   "outputs": [],
   "source": [
    "import numpy as np\n",
    "import pandas as pd\n",
    "import os\n",
    "from os import listdir\n",
    "months = ['201701', '201702', '201703', '201704', '201705', '201706', '201707', '201708', '201709', '201710', '201711', '201712', '201801', '201802', '201803', '201804', '201805', '201806', '201807', '201808', '201809', '201810', '201811', '201812', '201901', '201902', '201903', '201904', '201905', '201906', '201907', '201908', '201909', '201910', '201911', '201912', '202001', '202002', '202003', '202004', '202005', '202006', '202007', '202008', '202009', '202010', '202011', '202012', '202101', '202102', '202103', '202104', '202105', '202106', '202107', '202108', '202109', '202110', '202111', '202112', '202201', '202202', '202203', '202204', '202205']\n",
    "# months = ['202205']\n",
    "\n",
    "if not os.path.isdir('POP_cooked_data'):\n",
    "    os.mkdir('POP_cooked_data')"
   ]
  },
  {
   "cell_type": "code",
   "execution_count": 11,
   "id": "4b6ff24d-79b5-49fd-83d0-41a3ebfe0dc5",
   "metadata": {},
   "outputs": [],
   "source": [
    "# pop_raw = pd.read_csv(f\"POP_raw_data/雙北里人口資料/202205.csv\") \n",
    "\n",
    "stn_vil = pd.read_csv('POP_raw_data/站與里/站與里_全.csv') # info of possible serving area (surrounding villages) of a station\n",
    "firm_count = pd.read_csv('FIRM_raw_data/tp_firm_count.csv') # info of company counts of a certain village\n",
    "school_count = pd.read_csv('SCH_raw_data/school_count.csv') # info of school counts of a certain village\n",
    "\n",
    "# pd.unique(pop_raw[['區','里']].values.ravel('K')).shape # show unique values of administrative area column and village column"
   ]
  },
  {
   "cell_type": "code",
   "execution_count": 12,
   "id": "aa7dce47-a782-44ea-87d5-c2f4a4d9e4c1",
   "metadata": {
    "tags": []
   },
   "outputs": [],
   "source": [
    "for m in months:\n",
    "    pop_raw = pd.read_csv(f\"POP_raw_data/雙北里人口資料/{m}.csv\") # population data of each village in Tapei City and New Taipei City\n",
    "    cooked = pd.merge(stn_vil,pop_raw, how='left', on=['區','里']) # merge 'stn_vil' and 'pop_raw' on administrative area name and village name\n",
    "    cooked = pd.merge(cooked,firm_count, how='left', on=['區','里']) # merge 'firm_count' on administrative area name and village name\n",
    "    cooked = pd.merge(cooked,school_count, how='left', on=['區','里']) # merge 'school_count' on administrative area name and village name\n",
    "    \n",
    "    cooked['公司數'] = cooked['公司數'].fillna(0) \n",
    "    cooked['學校數'] = cooked['學校數'].fillna(0)\n",
    "    \n",
    "    cooked = cooked.groupby(['站名']).sum()\n",
    "    index = pd.DataFrame([*cooked.index]) # convert index into dataframe\n",
    "    value = pd.DataFrame(cooked.values) # convert value into dataframe\n",
    "    cooked = pd.concat([index, value], axis=1) # concatenate index and value into a dataframe\n",
    "    cooked.columns = ['站名','人口數','男','女','公司數','學校數']\n",
    "    \n",
    "    cooked.to_csv(f\"POP_cooked_data/cooked_{m}.csv\", index=False)"
   ]
  },
  {
   "cell_type": "code",
   "execution_count": null,
   "id": "87742ec3-155c-4736-affb-1382daaca959",
   "metadata": {},
   "outputs": [],
   "source": []
  }
 ],
 "metadata": {
  "kernelspec": {
   "display_name": "Python 3 (ipykernel)",
   "language": "python",
   "name": "python3"
  },
  "language_info": {
   "codemirror_mode": {
    "name": "ipython",
    "version": 3
   },
   "file_extension": ".py",
   "mimetype": "text/x-python",
   "name": "python",
   "nbconvert_exporter": "python",
   "pygments_lexer": "ipython3",
   "version": "3.9.12"
  }
 },
 "nbformat": 4,
 "nbformat_minor": 5
}
